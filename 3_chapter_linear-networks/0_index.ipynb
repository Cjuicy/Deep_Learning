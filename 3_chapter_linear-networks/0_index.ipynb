{
 "cells": [
  {
   "cell_type": "markdown",
   "metadata": {
    "origin_pos": 0
   },
   "source": [
    "# 线性神经网络\n",
    ":label:`chap_linear`\n",
    "\n",
    "在介绍深度神经网络之前，我们需要了解神经网络训练的基础知识。\n",
    "本章我们将介绍神经网络的整个训练过程，\n",
    "包括：定义简单的神经网络架构、数据处理、指定损失函数和如何训练模型。\n",
    "为了更容易学习，我们将从经典算法————*线性*神经网络开始，介绍神经网络的基础知识。\n",
    "经典统计学习技术中的线性回归和softmax回归可以视为线性神经网络，\n",
    "这些知识将为本书其他部分中更复杂的技术奠定基础。\n",
    "\n",
    ":begin_tab:toc\n",
    " - [linear-regression](1_linear-regression.ipynb)\n",
    " - [linear-regression-scratch](2_linear-regression-scratch.ipynb)\n",
    " - [linear-regression-concise](3_linear-regression-concise.ipynb)\n",
    " - [softmax-regression](4_softmax-regression.ipynb)\n",
    " - [image-classification-dataset](5_image-classification-dataset.ipynb)\n",
    " - [softmax-regression-scratch](6_softmax-regression-scratch.ipynb)\n",
    " - [softmax-regression-concise](7_softmax-regression-concise.ipynb)\n",
    ":end_tab:\n"
   ]
  }
 ],
 "metadata": {
  "kernelspec": {
   "display_name": "Python 3.7.13 ('pytorch')",
   "language": "python",
   "name": "python3"
  },
  "language_info": {
   "name": "python",
   "version": "3.7.13"
  },
  "vscode": {
   "interpreter": {
    "hash": "7d9fe059ab7d23d498f40a7052f43040c1b89b97bcd1b6ba6b66c3943ea2a584"
   }
  }
 },
 "nbformat": 4,
 "nbformat_minor": 4
}
