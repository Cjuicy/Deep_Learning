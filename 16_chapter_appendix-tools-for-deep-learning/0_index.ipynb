{
 "cells": [
  {
   "cell_type": "markdown",
   "metadata": {
    "origin_pos": 0
   },
   "source": [
    "# 附录：深度学习工具\n",
    ":label:`chap_appendix_tools`\n",
    "\n",
    "为了充分利用《动手学深度学习》，我们将在本附录中介绍不同工具，\n",
    "例如如何运行这本交互式开源书籍和为本书做贡献。\n",
    "\n",
    ":begin_tab:toc\n",
    " - [jupyter](1_jupyter.ipynb)\n",
    " - [sagemaker](2_sagemaker.ipynb)\n",
    " - [aws](3_aws.ipynb)\n",
    " - [selecting-servers-gpus](4_selecting-servers-gpus.ipynb)\n",
    " - [contributing](5_contributing.ipynb)\n",
    " - [d2l](6_d2l.ipynb)\n",
    ":end_tab:\n"
   ]
  }
 ],
 "metadata": {
  "kernelspec": {
   "display_name": "Python 3.7.13 ('pytorch')",
   "language": "python",
   "name": "python3"
  },
  "language_info": {
   "name": "python",
   "version": "3.7.13"
  },
  "vscode": {
   "interpreter": {
    "hash": "7d9fe059ab7d23d498f40a7052f43040c1b89b97bcd1b6ba6b66c3943ea2a584"
   }
  }
 },
 "nbformat": 4,
 "nbformat_minor": 4
}
