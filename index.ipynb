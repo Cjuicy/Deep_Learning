{
 "cells": [
  {
   "cell_type": "markdown",
   "metadata": {
    "origin_pos": 0
   },
   "source": [
    "《动手学深度学习》\n",
    "========================\n",
    "\n",
    "```eval_rst\n",
    ".. raw:: html\n",
    "   :file: frontpage.html\n",
    "```\n",
    "\n",
    ":begin_tab:toc\n",
    " - [chapter_preface/index](0_0chapter_preface/0_index.ipynb)\n",
    " - [chapter_installation/index](0_1chapter_installation/0_index.ipynb)\n",
    " - [chapter_notation/index](0_2chapter_notation/0_index.ipynb)\n",
    ":end_tab:\n",
    "\n",
    ":begin_tab:toc\n",
    " - [chapter_introduction/index](1_chapter_introduction/0_index.ipynb)\n",
    " - [chapter_preliminaries/index](2_chapter_preliminaries/0_index.ipynb)\n",
    " - [chapter_linear-networks/index](3_chapter_linear-networks/0_index.ipynb)\n",
    " - [chapter_multilayer-perceptrons/index](4_chapter_multilayer-perceptrons/0_index.ipynb)\n",
    " - [chapter_deep-learning-computation/index](5_chapter_deep-learning-computation/0_index.ipynb)\n",
    " - [chapter_convolutional-neural-networks/index](6_chapter_convolutional-neural-networks/0_index.ipynb)\n",
    " - [chapter_convolutional-modern/index](7_chapter_convolutional-modern/0_index.ipynb)\n",
    " - [chapter_recurrent-neural-networks/index](8_chapter_recurrent-neural-networks/0_index.ipynb)\n",
    " - [chapter_recurrent-modern/index](9_chapter_recurrent-modern/0_index.ipynb)\n",
    " - [chapter_attention-mechanisms/index](10_chapter_attention-mechanisms/0_index.ipynb)\n",
    " - [chapter_optimization/index](11_chapter_optimization/0_index.ipynb)\n",
    " - [chapter_computational-performance/index](12_chapter_computational-performance/0_index.ipynb)\n",
    " - [chapter_computer-vision/index](13_chapter_computer-vision/0_index.ipynb)\n",
    " - [chapter_natural-language-processing-pretraining/index](14_chapter_natural-language-processing-pretraining/0_index.ipynb)\n",
    " - [chapter_natural-language-processing-applications/index](15_chapter_natural-language-processing-applications/0_index.ipynb)\n",
    " - [chapter_appendix-tools-for-deep-learning/index](16_chapter_appendix-tools-for-deep-learning/0_index.ipynb)\n",
    ":end_tab:\n",
    "\n",
    ":begin_tab:toc\n",
    " - [chapter_references/zreferences](17_chapter_references/0_zreferences.ipynb)\n",
    ":end_tab:\n"
   ]
  }
 ],
 "metadata": {
  "kernelspec": {
   "display_name": "Python 3.7.13 ('pytorch')",
   "language": "python",
   "name": "python3"
  },
  "language_info": {
   "name": "python",
   "version": "3.7.13"
  },
  "vscode": {
   "interpreter": {
    "hash": "7d9fe059ab7d23d498f40a7052f43040c1b89b97bcd1b6ba6b66c3943ea2a584"
   }
  }
 },
 "nbformat": 4,
 "nbformat_minor": 4
}
