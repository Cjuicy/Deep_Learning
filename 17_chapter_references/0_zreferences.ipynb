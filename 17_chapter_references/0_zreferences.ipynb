{
 "cells": [
  {
   "cell_type": "markdown",
   "metadata": {
    "origin_pos": 0
   },
   "source": [
    "```eval_rst\n",
    ".. only:: html\n",
    "\n",
    "   参考文献\n",
    "   ==========\n",
    "```\n",
    "\n",
    ":bibliography:`../d2l.bib`\n"
   ]
  }
 ],
 "metadata": {
  "kernelspec": {
   "display_name": "Python 3.7.13 ('pytorch')",
   "language": "python",
   "name": "python3"
  },
  "language_info": {
   "name": "python",
   "version": "3.7.13"
  },
  "vscode": {
   "interpreter": {
    "hash": "7d9fe059ab7d23d498f40a7052f43040c1b89b97bcd1b6ba6b66c3943ea2a584"
   }
  }
 },
 "nbformat": 4,
 "nbformat_minor": 4
}
